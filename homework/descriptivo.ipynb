{
 "cells": [
  {
   "cell_type": "markdown",
   "id": "8d2d9a59",
   "metadata": {},
   "source": [
    "# Descriptivo\n",
    "\n",
    "Breve notebook descriptivo placeholder."
   ]
  }
 ],
 "metadata": {
  "language_info": {
   "name": "python"
  }
 },
 "nbformat": 4,
 "nbformat_minor": 5
}
